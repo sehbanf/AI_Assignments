{
  "nbformat": 4,
  "nbformat_minor": 0,
  "metadata": {
    "colab": {
      "name": "TEST_AI.ipynb",
      "provenance": []
    },
    "kernelspec": {
      "name": "python3",
      "display_name": "Python 3"
    },
    "language_info": {
      "name": "python"
    }
  },
  "cells": [
    {
      "cell_type": "code",
      "metadata": {
        "id": "SzbAQkdkYkry"
      },
      "source": [
        "from sklearn import metrics\n",
        "from sklearn.neural_network import MLPClassifier\n",
        "from sklearn.model_selection import train_test_split\n",
        "import matplotlib.pyplot as plt\n",
        "import seaborn as sns\n",
        "import numpy as np\n",
        "import pandas as pd"
      ],
      "execution_count": 57,
      "outputs": []
    },
    {
      "cell_type": "code",
      "metadata": {
        "id": "NIHCC8-WZLcW"
      },
      "source": [
        "dataset = pd.read_csv(\"roo_data.csv\")"
      ],
      "execution_count": 58,
      "outputs": []
    },
    {
      "cell_type": "code",
      "metadata": {
        "colab": {
          "base_uri": "https://localhost:8080/"
        },
        "id": "NSxBgfoLsuao",
        "outputId": "d2fb5564-44e7-44c6-cd6e-1b1d14910926"
      },
      "source": [
        "dataset.info()"
      ],
      "execution_count": 59,
      "outputs": [
        {
          "output_type": "stream",
          "name": "stdout",
          "text": [
            "<class 'pandas.core.frame.DataFrame'>\n",
            "RangeIndex: 20000 entries, 0 to 19999\n",
            "Data columns (total 39 columns):\n",
            " #   Column                                    Non-Null Count  Dtype \n",
            "---  ------                                    --------------  ----- \n",
            " 0   Acedamic percentage in Operating Systems  20000 non-null  int64 \n",
            " 1   percentage in Algorithms                  20000 non-null  int64 \n",
            " 2   Percentage in Programming Concepts        20000 non-null  int64 \n",
            " 3   Percentage in Software Engineering        20000 non-null  int64 \n",
            " 4   Percentage in Computer Networks           20000 non-null  int64 \n",
            " 5   Percentage in Electronics Subjects        20000 non-null  int64 \n",
            " 6   Percentage in Computer Architecture       20000 non-null  int64 \n",
            " 7   Percentage in Mathematics                 20000 non-null  int64 \n",
            " 8   Percentage in Communication skills        20000 non-null  int64 \n",
            " 9   Hours working per day                     20000 non-null  int64 \n",
            " 10  Logical quotient rating                   20000 non-null  int64 \n",
            " 11  hackathons                                20000 non-null  int64 \n",
            " 12  coding skills rating                      20000 non-null  int64 \n",
            " 13  public speaking points                    20000 non-null  int64 \n",
            " 14  can work long time before system?         20000 non-null  object\n",
            " 15  self-learning capability?                 20000 non-null  object\n",
            " 16  Extra-courses did                         20000 non-null  object\n",
            " 17  certifications                            20000 non-null  object\n",
            " 18  workshops                                 20000 non-null  object\n",
            " 19  talenttests taken?                        20000 non-null  object\n",
            " 20  olympiads                                 20000 non-null  object\n",
            " 21  reading and writing skills                20000 non-null  object\n",
            " 22  memory capability score                   20000 non-null  object\n",
            " 23  Interested subjects                       20000 non-null  object\n",
            " 24  interested career area                    20000 non-null  object\n",
            " 25  Job/Higher Studies?                       20000 non-null  object\n",
            " 26  Type of company want to settle in?        20000 non-null  object\n",
            " 27  Taken inputs from seniors or elders       20000 non-null  object\n",
            " 28  interested in games                       20000 non-null  object\n",
            " 29  Interested Type of Books                  20000 non-null  object\n",
            " 30  Salary Range Expected                     20000 non-null  object\n",
            " 31  In a Realtionship?                        20000 non-null  object\n",
            " 32  Gentle or Tuff behaviour?                 20000 non-null  object\n",
            " 33  Management or Technical                   20000 non-null  object\n",
            " 34  Salary/work                               20000 non-null  object\n",
            " 35  hard/smart worker                         20000 non-null  object\n",
            " 36  worked in teams ever?                     20000 non-null  object\n",
            " 37  Introvert                                 20000 non-null  object\n",
            " 38  Suggested Job Role                        20000 non-null  object\n",
            "dtypes: int64(14), object(25)\n",
            "memory usage: 6.0+ MB\n"
          ]
        }
      ]
    },
    {
      "cell_type": "code",
      "metadata": {
        "colab": {
          "base_uri": "https://localhost:8080/",
          "height": 390
        },
        "id": "g4GlKXzWsyTv",
        "outputId": "86fda803-ecbf-4284-c17d-a010df2d5328"
      },
      "source": [
        "dataset.describe()"
      ],
      "execution_count": 60,
      "outputs": [
        {
          "output_type": "execute_result",
          "data": {
            "text/html": [
              "<div>\n",
              "<style scoped>\n",
              "    .dataframe tbody tr th:only-of-type {\n",
              "        vertical-align: middle;\n",
              "    }\n",
              "\n",
              "    .dataframe tbody tr th {\n",
              "        vertical-align: top;\n",
              "    }\n",
              "\n",
              "    .dataframe thead th {\n",
              "        text-align: right;\n",
              "    }\n",
              "</style>\n",
              "<table border=\"1\" class=\"dataframe\">\n",
              "  <thead>\n",
              "    <tr style=\"text-align: right;\">\n",
              "      <th></th>\n",
              "      <th>Acedamic percentage in Operating Systems</th>\n",
              "      <th>percentage in Algorithms</th>\n",
              "      <th>Percentage in Programming Concepts</th>\n",
              "      <th>Percentage in Software Engineering</th>\n",
              "      <th>Percentage in Computer Networks</th>\n",
              "      <th>Percentage in Electronics Subjects</th>\n",
              "      <th>Percentage in Computer Architecture</th>\n",
              "      <th>Percentage in Mathematics</th>\n",
              "      <th>Percentage in Communication skills</th>\n",
              "      <th>Hours working per day</th>\n",
              "      <th>Logical quotient rating</th>\n",
              "      <th>hackathons</th>\n",
              "      <th>coding skills rating</th>\n",
              "      <th>public speaking points</th>\n",
              "    </tr>\n",
              "  </thead>\n",
              "  <tbody>\n",
              "    <tr>\n",
              "      <th>count</th>\n",
              "      <td>20000.000000</td>\n",
              "      <td>20000.000000</td>\n",
              "      <td>20000.000000</td>\n",
              "      <td>20000.000000</td>\n",
              "      <td>20000.000000</td>\n",
              "      <td>20000.000000</td>\n",
              "      <td>20000.000000</td>\n",
              "      <td>20000.000000</td>\n",
              "      <td>20000.000000</td>\n",
              "      <td>20000.000000</td>\n",
              "      <td>20000.000000</td>\n",
              "      <td>20000.000000</td>\n",
              "      <td>20000.000000</td>\n",
              "      <td>20000.000000</td>\n",
              "    </tr>\n",
              "    <tr>\n",
              "      <th>mean</th>\n",
              "      <td>77.002300</td>\n",
              "      <td>76.948200</td>\n",
              "      <td>77.017550</td>\n",
              "      <td>77.094500</td>\n",
              "      <td>76.958200</td>\n",
              "      <td>77.015550</td>\n",
              "      <td>77.069850</td>\n",
              "      <td>76.913100</td>\n",
              "      <td>76.921450</td>\n",
              "      <td>7.985950</td>\n",
              "      <td>4.995050</td>\n",
              "      <td>2.992650</td>\n",
              "      <td>5.004750</td>\n",
              "      <td>5.012800</td>\n",
              "    </tr>\n",
              "    <tr>\n",
              "      <th>std</th>\n",
              "      <td>10.085697</td>\n",
              "      <td>10.101733</td>\n",
              "      <td>10.134815</td>\n",
              "      <td>10.087837</td>\n",
              "      <td>10.020088</td>\n",
              "      <td>10.168888</td>\n",
              "      <td>10.069059</td>\n",
              "      <td>10.138555</td>\n",
              "      <td>10.103494</td>\n",
              "      <td>2.593798</td>\n",
              "      <td>2.578383</td>\n",
              "      <td>2.005791</td>\n",
              "      <td>2.576831</td>\n",
              "      <td>2.588875</td>\n",
              "    </tr>\n",
              "    <tr>\n",
              "      <th>min</th>\n",
              "      <td>60.000000</td>\n",
              "      <td>60.000000</td>\n",
              "      <td>60.000000</td>\n",
              "      <td>60.000000</td>\n",
              "      <td>60.000000</td>\n",
              "      <td>60.000000</td>\n",
              "      <td>60.000000</td>\n",
              "      <td>60.000000</td>\n",
              "      <td>60.000000</td>\n",
              "      <td>4.000000</td>\n",
              "      <td>1.000000</td>\n",
              "      <td>0.000000</td>\n",
              "      <td>1.000000</td>\n",
              "      <td>1.000000</td>\n",
              "    </tr>\n",
              "    <tr>\n",
              "      <th>25%</th>\n",
              "      <td>68.000000</td>\n",
              "      <td>68.000000</td>\n",
              "      <td>68.000000</td>\n",
              "      <td>68.000000</td>\n",
              "      <td>68.000000</td>\n",
              "      <td>68.000000</td>\n",
              "      <td>68.000000</td>\n",
              "      <td>68.000000</td>\n",
              "      <td>68.000000</td>\n",
              "      <td>6.000000</td>\n",
              "      <td>3.000000</td>\n",
              "      <td>1.000000</td>\n",
              "      <td>3.000000</td>\n",
              "      <td>3.000000</td>\n",
              "    </tr>\n",
              "    <tr>\n",
              "      <th>50%</th>\n",
              "      <td>77.000000</td>\n",
              "      <td>77.000000</td>\n",
              "      <td>77.000000</td>\n",
              "      <td>77.000000</td>\n",
              "      <td>77.000000</td>\n",
              "      <td>77.000000</td>\n",
              "      <td>77.000000</td>\n",
              "      <td>77.000000</td>\n",
              "      <td>77.000000</td>\n",
              "      <td>8.000000</td>\n",
              "      <td>5.000000</td>\n",
              "      <td>3.000000</td>\n",
              "      <td>5.000000</td>\n",
              "      <td>5.000000</td>\n",
              "    </tr>\n",
              "    <tr>\n",
              "      <th>75%</th>\n",
              "      <td>86.000000</td>\n",
              "      <td>86.000000</td>\n",
              "      <td>86.000000</td>\n",
              "      <td>86.000000</td>\n",
              "      <td>85.000000</td>\n",
              "      <td>86.000000</td>\n",
              "      <td>86.000000</td>\n",
              "      <td>86.000000</td>\n",
              "      <td>86.000000</td>\n",
              "      <td>10.000000</td>\n",
              "      <td>7.000000</td>\n",
              "      <td>5.000000</td>\n",
              "      <td>7.000000</td>\n",
              "      <td>7.000000</td>\n",
              "    </tr>\n",
              "    <tr>\n",
              "      <th>max</th>\n",
              "      <td>94.000000</td>\n",
              "      <td>94.000000</td>\n",
              "      <td>94.000000</td>\n",
              "      <td>94.000000</td>\n",
              "      <td>94.000000</td>\n",
              "      <td>94.000000</td>\n",
              "      <td>94.000000</td>\n",
              "      <td>94.000000</td>\n",
              "      <td>94.000000</td>\n",
              "      <td>12.000000</td>\n",
              "      <td>9.000000</td>\n",
              "      <td>6.000000</td>\n",
              "      <td>9.000000</td>\n",
              "      <td>9.000000</td>\n",
              "    </tr>\n",
              "  </tbody>\n",
              "</table>\n",
              "</div>"
            ],
            "text/plain": [
              "       Acedamic percentage in Operating Systems  ...  public speaking points\n",
              "count                              20000.000000  ...            20000.000000\n",
              "mean                                  77.002300  ...                5.012800\n",
              "std                                   10.085697  ...                2.588875\n",
              "min                                   60.000000  ...                1.000000\n",
              "25%                                   68.000000  ...                3.000000\n",
              "50%                                   77.000000  ...                5.000000\n",
              "75%                                   86.000000  ...                7.000000\n",
              "max                                   94.000000  ...                9.000000\n",
              "\n",
              "[8 rows x 14 columns]"
            ]
          },
          "metadata": {},
          "execution_count": 60
        }
      ]
    },
    {
      "cell_type": "code",
      "metadata": {
        "id": "F7YTZqIrZRID"
      },
      "source": [
        "drop_columns = ['Hours working per day','Management or Technical','hackathons','can work long time before system?','Extra-courses did','workshops','worked in teams ever?','self-learning capability?','memory capability score','Job/Higher Studies?','hard/smart worker','talenttests taken?','olympiads','reading and writing skills','Type of company want to settle in?','interested in games','Taken inputs from seniors or elders','Interested Type of Books','In a Realtionship?','Gentle or Tuff behaviour?','Introvert']\n",
        "final = dataset.drop(drop_columns, axis = 1)"
      ],
      "execution_count": 61,
      "outputs": []
    },
    {
      "cell_type": "code",
      "metadata": {
        "colab": {
          "base_uri": "https://localhost:8080/",
          "height": 434
        },
        "id": "Ledt7Et5a2cc",
        "outputId": "ea3c362e-067e-4317-8bbc-d579c245cf87"
      },
      "source": [
        "final.head()"
      ],
      "execution_count": 62,
      "outputs": [
        {
          "output_type": "execute_result",
          "data": {
            "text/html": [
              "<div>\n",
              "<style scoped>\n",
              "    .dataframe tbody tr th:only-of-type {\n",
              "        vertical-align: middle;\n",
              "    }\n",
              "\n",
              "    .dataframe tbody tr th {\n",
              "        vertical-align: top;\n",
              "    }\n",
              "\n",
              "    .dataframe thead th {\n",
              "        text-align: right;\n",
              "    }\n",
              "</style>\n",
              "<table border=\"1\" class=\"dataframe\">\n",
              "  <thead>\n",
              "    <tr style=\"text-align: right;\">\n",
              "      <th></th>\n",
              "      <th>Acedamic percentage in Operating Systems</th>\n",
              "      <th>percentage in Algorithms</th>\n",
              "      <th>Percentage in Programming Concepts</th>\n",
              "      <th>Percentage in Software Engineering</th>\n",
              "      <th>Percentage in Computer Networks</th>\n",
              "      <th>Percentage in Electronics Subjects</th>\n",
              "      <th>Percentage in Computer Architecture</th>\n",
              "      <th>Percentage in Mathematics</th>\n",
              "      <th>Percentage in Communication skills</th>\n",
              "      <th>Logical quotient rating</th>\n",
              "      <th>coding skills rating</th>\n",
              "      <th>public speaking points</th>\n",
              "      <th>certifications</th>\n",
              "      <th>Interested subjects</th>\n",
              "      <th>interested career area</th>\n",
              "      <th>Salary Range Expected</th>\n",
              "      <th>Salary/work</th>\n",
              "      <th>Suggested Job Role</th>\n",
              "    </tr>\n",
              "  </thead>\n",
              "  <tbody>\n",
              "    <tr>\n",
              "      <th>0</th>\n",
              "      <td>69</td>\n",
              "      <td>63</td>\n",
              "      <td>78</td>\n",
              "      <td>87</td>\n",
              "      <td>94</td>\n",
              "      <td>94</td>\n",
              "      <td>87</td>\n",
              "      <td>84</td>\n",
              "      <td>61</td>\n",
              "      <td>4</td>\n",
              "      <td>4</td>\n",
              "      <td>8</td>\n",
              "      <td>shell programming</td>\n",
              "      <td>cloud computing</td>\n",
              "      <td>system developer</td>\n",
              "      <td>salary</td>\n",
              "      <td>salary</td>\n",
              "      <td>Database Developer</td>\n",
              "    </tr>\n",
              "    <tr>\n",
              "      <th>1</th>\n",
              "      <td>78</td>\n",
              "      <td>62</td>\n",
              "      <td>73</td>\n",
              "      <td>60</td>\n",
              "      <td>71</td>\n",
              "      <td>70</td>\n",
              "      <td>73</td>\n",
              "      <td>84</td>\n",
              "      <td>91</td>\n",
              "      <td>7</td>\n",
              "      <td>2</td>\n",
              "      <td>3</td>\n",
              "      <td>machine learning</td>\n",
              "      <td>networks</td>\n",
              "      <td>Business process analyst</td>\n",
              "      <td>salary</td>\n",
              "      <td>salary</td>\n",
              "      <td>Portal Administrator</td>\n",
              "    </tr>\n",
              "    <tr>\n",
              "      <th>2</th>\n",
              "      <td>71</td>\n",
              "      <td>86</td>\n",
              "      <td>91</td>\n",
              "      <td>87</td>\n",
              "      <td>61</td>\n",
              "      <td>81</td>\n",
              "      <td>72</td>\n",
              "      <td>72</td>\n",
              "      <td>94</td>\n",
              "      <td>1</td>\n",
              "      <td>1</td>\n",
              "      <td>3</td>\n",
              "      <td>app development</td>\n",
              "      <td>hacking</td>\n",
              "      <td>developer</td>\n",
              "      <td>Work</td>\n",
              "      <td>work</td>\n",
              "      <td>Portal Administrator</td>\n",
              "    </tr>\n",
              "    <tr>\n",
              "      <th>3</th>\n",
              "      <td>76</td>\n",
              "      <td>87</td>\n",
              "      <td>60</td>\n",
              "      <td>84</td>\n",
              "      <td>89</td>\n",
              "      <td>73</td>\n",
              "      <td>62</td>\n",
              "      <td>88</td>\n",
              "      <td>69</td>\n",
              "      <td>1</td>\n",
              "      <td>2</td>\n",
              "      <td>5</td>\n",
              "      <td>python</td>\n",
              "      <td>networks</td>\n",
              "      <td>testing</td>\n",
              "      <td>Work</td>\n",
              "      <td>work</td>\n",
              "      <td>Systems Security Administrator</td>\n",
              "    </tr>\n",
              "    <tr>\n",
              "      <th>4</th>\n",
              "      <td>92</td>\n",
              "      <td>62</td>\n",
              "      <td>90</td>\n",
              "      <td>67</td>\n",
              "      <td>71</td>\n",
              "      <td>89</td>\n",
              "      <td>73</td>\n",
              "      <td>71</td>\n",
              "      <td>73</td>\n",
              "      <td>5</td>\n",
              "      <td>6</td>\n",
              "      <td>3</td>\n",
              "      <td>app development</td>\n",
              "      <td>Computer Architecture</td>\n",
              "      <td>testing</td>\n",
              "      <td>salary</td>\n",
              "      <td>work</td>\n",
              "      <td>Business Systems Analyst</td>\n",
              "    </tr>\n",
              "  </tbody>\n",
              "</table>\n",
              "</div>"
            ],
            "text/plain": [
              "   Acedamic percentage in Operating Systems  ...              Suggested Job Role\n",
              "0                                        69  ...              Database Developer\n",
              "1                                        78  ...            Portal Administrator\n",
              "2                                        71  ...            Portal Administrator\n",
              "3                                        76  ...  Systems Security Administrator\n",
              "4                                        92  ...        Business Systems Analyst\n",
              "\n",
              "[5 rows x 18 columns]"
            ]
          },
          "metadata": {},
          "execution_count": 62
        }
      ]
    },
    {
      "cell_type": "code",
      "metadata": {
        "id": "zA26-8k0cQow"
      },
      "source": [
        "df = final.iloc[:,:9]"
      ],
      "execution_count": 63,
      "outputs": []
    },
    {
      "cell_type": "code",
      "metadata": {
        "colab": {
          "base_uri": "https://localhost:8080/",
          "height": 258
        },
        "id": "LRLIxvmFw7hu",
        "outputId": "f328f5a9-b865-4b6b-8516-c7a41e0b15bd"
      },
      "source": [
        "df.head()"
      ],
      "execution_count": 64,
      "outputs": [
        {
          "output_type": "execute_result",
          "data": {
            "text/html": [
              "<div>\n",
              "<style scoped>\n",
              "    .dataframe tbody tr th:only-of-type {\n",
              "        vertical-align: middle;\n",
              "    }\n",
              "\n",
              "    .dataframe tbody tr th {\n",
              "        vertical-align: top;\n",
              "    }\n",
              "\n",
              "    .dataframe thead th {\n",
              "        text-align: right;\n",
              "    }\n",
              "</style>\n",
              "<table border=\"1\" class=\"dataframe\">\n",
              "  <thead>\n",
              "    <tr style=\"text-align: right;\">\n",
              "      <th></th>\n",
              "      <th>Acedamic percentage in Operating Systems</th>\n",
              "      <th>percentage in Algorithms</th>\n",
              "      <th>Percentage in Programming Concepts</th>\n",
              "      <th>Percentage in Software Engineering</th>\n",
              "      <th>Percentage in Computer Networks</th>\n",
              "      <th>Percentage in Electronics Subjects</th>\n",
              "      <th>Percentage in Computer Architecture</th>\n",
              "      <th>Percentage in Mathematics</th>\n",
              "      <th>Percentage in Communication skills</th>\n",
              "    </tr>\n",
              "  </thead>\n",
              "  <tbody>\n",
              "    <tr>\n",
              "      <th>0</th>\n",
              "      <td>69</td>\n",
              "      <td>63</td>\n",
              "      <td>78</td>\n",
              "      <td>87</td>\n",
              "      <td>94</td>\n",
              "      <td>94</td>\n",
              "      <td>87</td>\n",
              "      <td>84</td>\n",
              "      <td>61</td>\n",
              "    </tr>\n",
              "    <tr>\n",
              "      <th>1</th>\n",
              "      <td>78</td>\n",
              "      <td>62</td>\n",
              "      <td>73</td>\n",
              "      <td>60</td>\n",
              "      <td>71</td>\n",
              "      <td>70</td>\n",
              "      <td>73</td>\n",
              "      <td>84</td>\n",
              "      <td>91</td>\n",
              "    </tr>\n",
              "    <tr>\n",
              "      <th>2</th>\n",
              "      <td>71</td>\n",
              "      <td>86</td>\n",
              "      <td>91</td>\n",
              "      <td>87</td>\n",
              "      <td>61</td>\n",
              "      <td>81</td>\n",
              "      <td>72</td>\n",
              "      <td>72</td>\n",
              "      <td>94</td>\n",
              "    </tr>\n",
              "    <tr>\n",
              "      <th>3</th>\n",
              "      <td>76</td>\n",
              "      <td>87</td>\n",
              "      <td>60</td>\n",
              "      <td>84</td>\n",
              "      <td>89</td>\n",
              "      <td>73</td>\n",
              "      <td>62</td>\n",
              "      <td>88</td>\n",
              "      <td>69</td>\n",
              "    </tr>\n",
              "    <tr>\n",
              "      <th>4</th>\n",
              "      <td>92</td>\n",
              "      <td>62</td>\n",
              "      <td>90</td>\n",
              "      <td>67</td>\n",
              "      <td>71</td>\n",
              "      <td>89</td>\n",
              "      <td>73</td>\n",
              "      <td>71</td>\n",
              "      <td>73</td>\n",
              "    </tr>\n",
              "  </tbody>\n",
              "</table>\n",
              "</div>"
            ],
            "text/plain": [
              "   Acedamic percentage in Operating Systems  ...  Percentage in Communication skills\n",
              "0                                        69  ...                                  61\n",
              "1                                        78  ...                                  91\n",
              "2                                        71  ...                                  94\n",
              "3                                        76  ...                                  69\n",
              "4                                        92  ...                                  73\n",
              "\n",
              "[5 rows x 9 columns]"
            ]
          },
          "metadata": {},
          "execution_count": 64
        }
      ]
    },
    {
      "cell_type": "code",
      "metadata": {
        "id": "Exrchz08a4Mf"
      },
      "source": [
        "df['Average Academic Percentage'] = df.mean(axis=1)"
      ],
      "execution_count": 65,
      "outputs": []
    },
    {
      "cell_type": "code",
      "metadata": {
        "colab": {
          "base_uri": "https://localhost:8080/",
          "height": 258
        },
        "id": "hiBkZ1Cqcban",
        "outputId": "77c55e43-62ad-4953-afbc-d0427dd1f344"
      },
      "source": [
        "df.head()"
      ],
      "execution_count": 66,
      "outputs": [
        {
          "output_type": "execute_result",
          "data": {
            "text/html": [
              "<div>\n",
              "<style scoped>\n",
              "    .dataframe tbody tr th:only-of-type {\n",
              "        vertical-align: middle;\n",
              "    }\n",
              "\n",
              "    .dataframe tbody tr th {\n",
              "        vertical-align: top;\n",
              "    }\n",
              "\n",
              "    .dataframe thead th {\n",
              "        text-align: right;\n",
              "    }\n",
              "</style>\n",
              "<table border=\"1\" class=\"dataframe\">\n",
              "  <thead>\n",
              "    <tr style=\"text-align: right;\">\n",
              "      <th></th>\n",
              "      <th>Acedamic percentage in Operating Systems</th>\n",
              "      <th>percentage in Algorithms</th>\n",
              "      <th>Percentage in Programming Concepts</th>\n",
              "      <th>Percentage in Software Engineering</th>\n",
              "      <th>Percentage in Computer Networks</th>\n",
              "      <th>Percentage in Electronics Subjects</th>\n",
              "      <th>Percentage in Computer Architecture</th>\n",
              "      <th>Percentage in Mathematics</th>\n",
              "      <th>Percentage in Communication skills</th>\n",
              "      <th>Average Academic Percentage</th>\n",
              "    </tr>\n",
              "  </thead>\n",
              "  <tbody>\n",
              "    <tr>\n",
              "      <th>0</th>\n",
              "      <td>69</td>\n",
              "      <td>63</td>\n",
              "      <td>78</td>\n",
              "      <td>87</td>\n",
              "      <td>94</td>\n",
              "      <td>94</td>\n",
              "      <td>87</td>\n",
              "      <td>84</td>\n",
              "      <td>61</td>\n",
              "      <td>79.666667</td>\n",
              "    </tr>\n",
              "    <tr>\n",
              "      <th>1</th>\n",
              "      <td>78</td>\n",
              "      <td>62</td>\n",
              "      <td>73</td>\n",
              "      <td>60</td>\n",
              "      <td>71</td>\n",
              "      <td>70</td>\n",
              "      <td>73</td>\n",
              "      <td>84</td>\n",
              "      <td>91</td>\n",
              "      <td>73.555556</td>\n",
              "    </tr>\n",
              "    <tr>\n",
              "      <th>2</th>\n",
              "      <td>71</td>\n",
              "      <td>86</td>\n",
              "      <td>91</td>\n",
              "      <td>87</td>\n",
              "      <td>61</td>\n",
              "      <td>81</td>\n",
              "      <td>72</td>\n",
              "      <td>72</td>\n",
              "      <td>94</td>\n",
              "      <td>79.444444</td>\n",
              "    </tr>\n",
              "    <tr>\n",
              "      <th>3</th>\n",
              "      <td>76</td>\n",
              "      <td>87</td>\n",
              "      <td>60</td>\n",
              "      <td>84</td>\n",
              "      <td>89</td>\n",
              "      <td>73</td>\n",
              "      <td>62</td>\n",
              "      <td>88</td>\n",
              "      <td>69</td>\n",
              "      <td>76.444444</td>\n",
              "    </tr>\n",
              "    <tr>\n",
              "      <th>4</th>\n",
              "      <td>92</td>\n",
              "      <td>62</td>\n",
              "      <td>90</td>\n",
              "      <td>67</td>\n",
              "      <td>71</td>\n",
              "      <td>89</td>\n",
              "      <td>73</td>\n",
              "      <td>71</td>\n",
              "      <td>73</td>\n",
              "      <td>76.444444</td>\n",
              "    </tr>\n",
              "  </tbody>\n",
              "</table>\n",
              "</div>"
            ],
            "text/plain": [
              "   Acedamic percentage in Operating Systems  ...  Average Academic Percentage\n",
              "0                                        69  ...                    79.666667\n",
              "1                                        78  ...                    73.555556\n",
              "2                                        71  ...                    79.444444\n",
              "3                                        76  ...                    76.444444\n",
              "4                                        92  ...                    76.444444\n",
              "\n",
              "[5 rows x 10 columns]"
            ]
          },
          "metadata": {},
          "execution_count": 66
        }
      ]
    },
    {
      "cell_type": "code",
      "metadata": {
        "id": "rEABOaKccfLq"
      },
      "source": [
        "drop_list = ['Acedamic percentage in Operating Systems',\t'percentage in Algorithms'\t,'Percentage in Programming Concepts','Percentage in Software Engineering',\t'Percentage in Computer Networks',\t'Percentage in Electronics Subjects'\t,'Percentage in Computer Architecture',\t'Percentage in Mathematics',\t'Percentage in Communication skills']"
      ],
      "execution_count": 67,
      "outputs": []
    },
    {
      "cell_type": "code",
      "metadata": {
        "id": "b6ztE_8XdHyd"
      },
      "source": [
        "df1 = df.drop(drop_list, axis = 1)"
      ],
      "execution_count": 68,
      "outputs": []
    },
    {
      "cell_type": "code",
      "metadata": {
        "colab": {
          "base_uri": "https://localhost:8080/"
        },
        "id": "-GRsOgQUdRF2",
        "outputId": "bc3235ab-e67b-4ff0-e51f-aac46c27154d"
      },
      "source": [
        "df1.info()"
      ],
      "execution_count": 69,
      "outputs": [
        {
          "output_type": "stream",
          "name": "stdout",
          "text": [
            "<class 'pandas.core.frame.DataFrame'>\n",
            "RangeIndex: 20000 entries, 0 to 19999\n",
            "Data columns (total 1 columns):\n",
            " #   Column                       Non-Null Count  Dtype  \n",
            "---  ------                       --------------  -----  \n",
            " 0   Average Academic Percentage  20000 non-null  float64\n",
            "dtypes: float64(1)\n",
            "memory usage: 156.4 KB\n"
          ]
        }
      ]
    },
    {
      "cell_type": "code",
      "metadata": {
        "colab": {
          "base_uri": "https://localhost:8080/",
          "height": 206
        },
        "id": "_t-4mS3GebE5",
        "outputId": "bf2a4306-518e-4fa6-8a58-79a66116848d"
      },
      "source": [
        "df1.head()"
      ],
      "execution_count": 70,
      "outputs": [
        {
          "output_type": "execute_result",
          "data": {
            "text/html": [
              "<div>\n",
              "<style scoped>\n",
              "    .dataframe tbody tr th:only-of-type {\n",
              "        vertical-align: middle;\n",
              "    }\n",
              "\n",
              "    .dataframe tbody tr th {\n",
              "        vertical-align: top;\n",
              "    }\n",
              "\n",
              "    .dataframe thead th {\n",
              "        text-align: right;\n",
              "    }\n",
              "</style>\n",
              "<table border=\"1\" class=\"dataframe\">\n",
              "  <thead>\n",
              "    <tr style=\"text-align: right;\">\n",
              "      <th></th>\n",
              "      <th>Average Academic Percentage</th>\n",
              "    </tr>\n",
              "  </thead>\n",
              "  <tbody>\n",
              "    <tr>\n",
              "      <th>0</th>\n",
              "      <td>79.666667</td>\n",
              "    </tr>\n",
              "    <tr>\n",
              "      <th>1</th>\n",
              "      <td>73.555556</td>\n",
              "    </tr>\n",
              "    <tr>\n",
              "      <th>2</th>\n",
              "      <td>79.444444</td>\n",
              "    </tr>\n",
              "    <tr>\n",
              "      <th>3</th>\n",
              "      <td>76.444444</td>\n",
              "    </tr>\n",
              "    <tr>\n",
              "      <th>4</th>\n",
              "      <td>76.444444</td>\n",
              "    </tr>\n",
              "  </tbody>\n",
              "</table>\n",
              "</div>"
            ],
            "text/plain": [
              "   Average Academic Percentage\n",
              "0                    79.666667\n",
              "1                    73.555556\n",
              "2                    79.444444\n",
              "3                    76.444444\n",
              "4                    76.444444"
            ]
          },
          "metadata": {},
          "execution_count": 70
        }
      ]
    },
    {
      "cell_type": "code",
      "metadata": {
        "colab": {
          "base_uri": "https://localhost:8080/"
        },
        "id": "Ktt0258udhGR",
        "outputId": "41e5ae0c-4a73-40a3-b9f5-a0dbc3936968"
      },
      "source": [
        "df2 = df1['Average Academic Percentage'].nunique()\n",
        "df2"
      ],
      "execution_count": 71,
      "outputs": [
        {
          "output_type": "execute_result",
          "data": {
            "text/plain": [
              "205"
            ]
          },
          "metadata": {},
          "execution_count": 71
        }
      ]
    },
    {
      "cell_type": "code",
      "metadata": {
        "id": "VYK5_sIdpaHQ"
      },
      "source": [
        "df3 = final.iloc[:,9:]"
      ],
      "execution_count": 72,
      "outputs": []
    },
    {
      "cell_type": "code",
      "metadata": {
        "colab": {
          "base_uri": "https://localhost:8080/",
          "height": 293
        },
        "id": "5ZHknaxWyZtT",
        "outputId": "bdcacf25-e69e-49d6-c594-0b1f3fb5251a"
      },
      "source": [
        "df3.head()"
      ],
      "execution_count": 73,
      "outputs": [
        {
          "output_type": "execute_result",
          "data": {
            "text/html": [
              "<div>\n",
              "<style scoped>\n",
              "    .dataframe tbody tr th:only-of-type {\n",
              "        vertical-align: middle;\n",
              "    }\n",
              "\n",
              "    .dataframe tbody tr th {\n",
              "        vertical-align: top;\n",
              "    }\n",
              "\n",
              "    .dataframe thead th {\n",
              "        text-align: right;\n",
              "    }\n",
              "</style>\n",
              "<table border=\"1\" class=\"dataframe\">\n",
              "  <thead>\n",
              "    <tr style=\"text-align: right;\">\n",
              "      <th></th>\n",
              "      <th>Logical quotient rating</th>\n",
              "      <th>coding skills rating</th>\n",
              "      <th>public speaking points</th>\n",
              "      <th>certifications</th>\n",
              "      <th>Interested subjects</th>\n",
              "      <th>interested career area</th>\n",
              "      <th>Salary Range Expected</th>\n",
              "      <th>Salary/work</th>\n",
              "      <th>Suggested Job Role</th>\n",
              "    </tr>\n",
              "  </thead>\n",
              "  <tbody>\n",
              "    <tr>\n",
              "      <th>0</th>\n",
              "      <td>4</td>\n",
              "      <td>4</td>\n",
              "      <td>8</td>\n",
              "      <td>shell programming</td>\n",
              "      <td>cloud computing</td>\n",
              "      <td>system developer</td>\n",
              "      <td>salary</td>\n",
              "      <td>salary</td>\n",
              "      <td>Database Developer</td>\n",
              "    </tr>\n",
              "    <tr>\n",
              "      <th>1</th>\n",
              "      <td>7</td>\n",
              "      <td>2</td>\n",
              "      <td>3</td>\n",
              "      <td>machine learning</td>\n",
              "      <td>networks</td>\n",
              "      <td>Business process analyst</td>\n",
              "      <td>salary</td>\n",
              "      <td>salary</td>\n",
              "      <td>Portal Administrator</td>\n",
              "    </tr>\n",
              "    <tr>\n",
              "      <th>2</th>\n",
              "      <td>1</td>\n",
              "      <td>1</td>\n",
              "      <td>3</td>\n",
              "      <td>app development</td>\n",
              "      <td>hacking</td>\n",
              "      <td>developer</td>\n",
              "      <td>Work</td>\n",
              "      <td>work</td>\n",
              "      <td>Portal Administrator</td>\n",
              "    </tr>\n",
              "    <tr>\n",
              "      <th>3</th>\n",
              "      <td>1</td>\n",
              "      <td>2</td>\n",
              "      <td>5</td>\n",
              "      <td>python</td>\n",
              "      <td>networks</td>\n",
              "      <td>testing</td>\n",
              "      <td>Work</td>\n",
              "      <td>work</td>\n",
              "      <td>Systems Security Administrator</td>\n",
              "    </tr>\n",
              "    <tr>\n",
              "      <th>4</th>\n",
              "      <td>5</td>\n",
              "      <td>6</td>\n",
              "      <td>3</td>\n",
              "      <td>app development</td>\n",
              "      <td>Computer Architecture</td>\n",
              "      <td>testing</td>\n",
              "      <td>salary</td>\n",
              "      <td>work</td>\n",
              "      <td>Business Systems Analyst</td>\n",
              "    </tr>\n",
              "  </tbody>\n",
              "</table>\n",
              "</div>"
            ],
            "text/plain": [
              "   Logical quotient rating  ...              Suggested Job Role\n",
              "0                        4  ...              Database Developer\n",
              "1                        7  ...            Portal Administrator\n",
              "2                        1  ...            Portal Administrator\n",
              "3                        1  ...  Systems Security Administrator\n",
              "4                        5  ...        Business Systems Analyst\n",
              "\n",
              "[5 rows x 9 columns]"
            ]
          },
          "metadata": {},
          "execution_count": 73
        }
      ]
    },
    {
      "cell_type": "code",
      "metadata": {
        "id": "75txEUKcybPL"
      },
      "source": [
        "final_df = pd.concat([df1,df3],axis=1)"
      ],
      "execution_count": 74,
      "outputs": []
    },
    {
      "cell_type": "code",
      "metadata": {
        "colab": {
          "base_uri": "https://localhost:8080/",
          "height": 310
        },
        "id": "qcYTbf1izIqx",
        "outputId": "fc4bcdbf-b0d0-4ee1-e067-1eb1bcf03760"
      },
      "source": [
        "final_df.head()"
      ],
      "execution_count": 75,
      "outputs": [
        {
          "output_type": "execute_result",
          "data": {
            "text/html": [
              "<div>\n",
              "<style scoped>\n",
              "    .dataframe tbody tr th:only-of-type {\n",
              "        vertical-align: middle;\n",
              "    }\n",
              "\n",
              "    .dataframe tbody tr th {\n",
              "        vertical-align: top;\n",
              "    }\n",
              "\n",
              "    .dataframe thead th {\n",
              "        text-align: right;\n",
              "    }\n",
              "</style>\n",
              "<table border=\"1\" class=\"dataframe\">\n",
              "  <thead>\n",
              "    <tr style=\"text-align: right;\">\n",
              "      <th></th>\n",
              "      <th>Average Academic Percentage</th>\n",
              "      <th>Logical quotient rating</th>\n",
              "      <th>coding skills rating</th>\n",
              "      <th>public speaking points</th>\n",
              "      <th>certifications</th>\n",
              "      <th>Interested subjects</th>\n",
              "      <th>interested career area</th>\n",
              "      <th>Salary Range Expected</th>\n",
              "      <th>Salary/work</th>\n",
              "      <th>Suggested Job Role</th>\n",
              "    </tr>\n",
              "  </thead>\n",
              "  <tbody>\n",
              "    <tr>\n",
              "      <th>0</th>\n",
              "      <td>79.666667</td>\n",
              "      <td>4</td>\n",
              "      <td>4</td>\n",
              "      <td>8</td>\n",
              "      <td>shell programming</td>\n",
              "      <td>cloud computing</td>\n",
              "      <td>system developer</td>\n",
              "      <td>salary</td>\n",
              "      <td>salary</td>\n",
              "      <td>Database Developer</td>\n",
              "    </tr>\n",
              "    <tr>\n",
              "      <th>1</th>\n",
              "      <td>73.555556</td>\n",
              "      <td>7</td>\n",
              "      <td>2</td>\n",
              "      <td>3</td>\n",
              "      <td>machine learning</td>\n",
              "      <td>networks</td>\n",
              "      <td>Business process analyst</td>\n",
              "      <td>salary</td>\n",
              "      <td>salary</td>\n",
              "      <td>Portal Administrator</td>\n",
              "    </tr>\n",
              "    <tr>\n",
              "      <th>2</th>\n",
              "      <td>79.444444</td>\n",
              "      <td>1</td>\n",
              "      <td>1</td>\n",
              "      <td>3</td>\n",
              "      <td>app development</td>\n",
              "      <td>hacking</td>\n",
              "      <td>developer</td>\n",
              "      <td>Work</td>\n",
              "      <td>work</td>\n",
              "      <td>Portal Administrator</td>\n",
              "    </tr>\n",
              "    <tr>\n",
              "      <th>3</th>\n",
              "      <td>76.444444</td>\n",
              "      <td>1</td>\n",
              "      <td>2</td>\n",
              "      <td>5</td>\n",
              "      <td>python</td>\n",
              "      <td>networks</td>\n",
              "      <td>testing</td>\n",
              "      <td>Work</td>\n",
              "      <td>work</td>\n",
              "      <td>Systems Security Administrator</td>\n",
              "    </tr>\n",
              "    <tr>\n",
              "      <th>4</th>\n",
              "      <td>76.444444</td>\n",
              "      <td>5</td>\n",
              "      <td>6</td>\n",
              "      <td>3</td>\n",
              "      <td>app development</td>\n",
              "      <td>Computer Architecture</td>\n",
              "      <td>testing</td>\n",
              "      <td>salary</td>\n",
              "      <td>work</td>\n",
              "      <td>Business Systems Analyst</td>\n",
              "    </tr>\n",
              "  </tbody>\n",
              "</table>\n",
              "</div>"
            ],
            "text/plain": [
              "   Average Academic Percentage  ...              Suggested Job Role\n",
              "0                    79.666667  ...              Database Developer\n",
              "1                    73.555556  ...            Portal Administrator\n",
              "2                    79.444444  ...            Portal Administrator\n",
              "3                    76.444444  ...  Systems Security Administrator\n",
              "4                    76.444444  ...        Business Systems Analyst\n",
              "\n",
              "[5 rows x 10 columns]"
            ]
          },
          "metadata": {},
          "execution_count": 75
        }
      ]
    },
    {
      "cell_type": "code",
      "metadata": {
        "colab": {
          "base_uri": "https://localhost:8080/"
        },
        "id": "4-swzCTpzQBD",
        "outputId": "9e8a0bea-f6a5-4dc0-aec2-d1ec225d702b"
      },
      "source": [
        "final_df.shape"
      ],
      "execution_count": 76,
      "outputs": [
        {
          "output_type": "execute_result",
          "data": {
            "text/plain": [
              "(20000, 10)"
            ]
          },
          "metadata": {},
          "execution_count": 76
        }
      ]
    },
    {
      "cell_type": "code",
      "metadata": {
        "id": "XBkC0hlszbHt"
      },
      "source": [
        "Suggested_DF = final_df.iloc[:,9:]"
      ],
      "execution_count": 77,
      "outputs": []
    },
    {
      "cell_type": "code",
      "metadata": {
        "colab": {
          "base_uri": "https://localhost:8080/",
          "height": 206
        },
        "id": "jZZqJ_eO6mQP",
        "outputId": "ca8c60de-9690-4d4b-c6aa-76b96a3f77bc"
      },
      "source": [
        "Suggested_DF.head()"
      ],
      "execution_count": 78,
      "outputs": [
        {
          "output_type": "execute_result",
          "data": {
            "text/html": [
              "<div>\n",
              "<style scoped>\n",
              "    .dataframe tbody tr th:only-of-type {\n",
              "        vertical-align: middle;\n",
              "    }\n",
              "\n",
              "    .dataframe tbody tr th {\n",
              "        vertical-align: top;\n",
              "    }\n",
              "\n",
              "    .dataframe thead th {\n",
              "        text-align: right;\n",
              "    }\n",
              "</style>\n",
              "<table border=\"1\" class=\"dataframe\">\n",
              "  <thead>\n",
              "    <tr style=\"text-align: right;\">\n",
              "      <th></th>\n",
              "      <th>Suggested Job Role</th>\n",
              "    </tr>\n",
              "  </thead>\n",
              "  <tbody>\n",
              "    <tr>\n",
              "      <th>0</th>\n",
              "      <td>Database Developer</td>\n",
              "    </tr>\n",
              "    <tr>\n",
              "      <th>1</th>\n",
              "      <td>Portal Administrator</td>\n",
              "    </tr>\n",
              "    <tr>\n",
              "      <th>2</th>\n",
              "      <td>Portal Administrator</td>\n",
              "    </tr>\n",
              "    <tr>\n",
              "      <th>3</th>\n",
              "      <td>Systems Security Administrator</td>\n",
              "    </tr>\n",
              "    <tr>\n",
              "      <th>4</th>\n",
              "      <td>Business Systems Analyst</td>\n",
              "    </tr>\n",
              "  </tbody>\n",
              "</table>\n",
              "</div>"
            ],
            "text/plain": [
              "               Suggested Job Role\n",
              "0              Database Developer\n",
              "1            Portal Administrator\n",
              "2            Portal Administrator\n",
              "3  Systems Security Administrator\n",
              "4        Business Systems Analyst"
            ]
          },
          "metadata": {},
          "execution_count": 78
        }
      ]
    },
    {
      "cell_type": "code",
      "metadata": {
        "id": "ObEQQpqt8xj-"
      },
      "source": [
        "Suggested_DF['Suggested Job Role'].replace({\"Database Developer\": 'Database Profile','Database Manager':'Database Profile','Database Administrator':'Database Profile','Data Architect': \"Database Profile\", 'Technical Support':'Technical/Support Profile','Technical Services/Help Desk/Tech Support':'Technical/Support Profile','Information Technology Auditor':'Technical/Support Profile','Software Quality Assurance (QA) / Testing':'Technical/Support Profile','Information Technology Manager':'Technical/Support Profile','Technical Engineer':'Technical/Support Profile','Portal Administrator':'Technical/Support Profile','Quality Assurance Associate':'Technical/Support Profile','Systems Analyst':'Technical/Support Profile','Solutions Architect':'Technical/Support Profile','Systems Security Administrator':'Networking Profile','Network Security Administrator':'Networking Profile','Network Engineer':'Networking Profile','Network Security Engineer':'Networking Profile','Information Security Analyst':'Networking Profile','UX Designer':'Design Profile','Design & UX':'Design Profile',\"Business Systems Analyst\": \"Business Profile\", \"Business Intelligence Analyst\": \"Business Profile\", \"Project Manager\":\"Business Profile\",\"E-Commerce Analyst\": \"Business Profile\",\"CRM Technical Developer\": 'Technical/Support Profile', \"CRM Business Analyst\": \"Business Profile\",\"Software Systems Engineer\": \"Software Profile\",'Programmer Analyst':'Software Profile',\"Mobile Applications Developer\": \"Software Profile\", \"Web Developer\": \"Software Profile\", \"Software Developer\": \"Software Profile\", \"Applications Developer\": \"Software Profile\", \"Software Engineer\": \"Software Profile\"}, inplace=True)"
      ],
      "execution_count": 79,
      "outputs": []
    },
    {
      "cell_type": "code",
      "metadata": {
        "colab": {
          "base_uri": "https://localhost:8080/",
          "height": 206
        },
        "id": "NCBWcOie9ayY",
        "outputId": "f9d65a28-2ced-4b4e-dd34-7a400e0d4bad"
      },
      "source": [
        "Suggested_DF.head()"
      ],
      "execution_count": 80,
      "outputs": [
        {
          "output_type": "execute_result",
          "data": {
            "text/html": [
              "<div>\n",
              "<style scoped>\n",
              "    .dataframe tbody tr th:only-of-type {\n",
              "        vertical-align: middle;\n",
              "    }\n",
              "\n",
              "    .dataframe tbody tr th {\n",
              "        vertical-align: top;\n",
              "    }\n",
              "\n",
              "    .dataframe thead th {\n",
              "        text-align: right;\n",
              "    }\n",
              "</style>\n",
              "<table border=\"1\" class=\"dataframe\">\n",
              "  <thead>\n",
              "    <tr style=\"text-align: right;\">\n",
              "      <th></th>\n",
              "      <th>Suggested Job Role</th>\n",
              "    </tr>\n",
              "  </thead>\n",
              "  <tbody>\n",
              "    <tr>\n",
              "      <th>0</th>\n",
              "      <td>Database Profile</td>\n",
              "    </tr>\n",
              "    <tr>\n",
              "      <th>1</th>\n",
              "      <td>Technical/Support Profile</td>\n",
              "    </tr>\n",
              "    <tr>\n",
              "      <th>2</th>\n",
              "      <td>Technical/Support Profile</td>\n",
              "    </tr>\n",
              "    <tr>\n",
              "      <th>3</th>\n",
              "      <td>Networking Profile</td>\n",
              "    </tr>\n",
              "    <tr>\n",
              "      <th>4</th>\n",
              "      <td>Business Profile</td>\n",
              "    </tr>\n",
              "  </tbody>\n",
              "</table>\n",
              "</div>"
            ],
            "text/plain": [
              "          Suggested Job Role\n",
              "0           Database Profile\n",
              "1  Technical/Support Profile\n",
              "2  Technical/Support Profile\n",
              "3         Networking Profile\n",
              "4           Business Profile"
            ]
          },
          "metadata": {},
          "execution_count": 80
        }
      ]
    },
    {
      "cell_type": "code",
      "metadata": {
        "colab": {
          "base_uri": "https://localhost:8080/"
        },
        "id": "7bRl3WUc94q5",
        "outputId": "f3985ac7-df3a-4cd0-ad56-7416456977e4"
      },
      "source": [
        "Suggested_DF['Suggested Job Role'].nunique()"
      ],
      "execution_count": 81,
      "outputs": [
        {
          "output_type": "execute_result",
          "data": {
            "text/plain": [
              "6"
            ]
          },
          "metadata": {},
          "execution_count": 81
        }
      ]
    },
    {
      "cell_type": "code",
      "metadata": {
        "id": "tduTHz1aEGNe"
      },
      "source": [
        "first_half=final_df.iloc[:,:9]"
      ],
      "execution_count": 82,
      "outputs": []
    },
    {
      "cell_type": "code",
      "metadata": {
        "colab": {
          "base_uri": "https://localhost:8080/",
          "height": 276
        },
        "id": "rEuVJf4pGMib",
        "outputId": "bd32e13b-1802-4550-82f4-2cf6101da003"
      },
      "source": [
        "first_half.head()"
      ],
      "execution_count": 83,
      "outputs": [
        {
          "output_type": "execute_result",
          "data": {
            "text/html": [
              "<div>\n",
              "<style scoped>\n",
              "    .dataframe tbody tr th:only-of-type {\n",
              "        vertical-align: middle;\n",
              "    }\n",
              "\n",
              "    .dataframe tbody tr th {\n",
              "        vertical-align: top;\n",
              "    }\n",
              "\n",
              "    .dataframe thead th {\n",
              "        text-align: right;\n",
              "    }\n",
              "</style>\n",
              "<table border=\"1\" class=\"dataframe\">\n",
              "  <thead>\n",
              "    <tr style=\"text-align: right;\">\n",
              "      <th></th>\n",
              "      <th>Average Academic Percentage</th>\n",
              "      <th>Logical quotient rating</th>\n",
              "      <th>coding skills rating</th>\n",
              "      <th>public speaking points</th>\n",
              "      <th>certifications</th>\n",
              "      <th>Interested subjects</th>\n",
              "      <th>interested career area</th>\n",
              "      <th>Salary Range Expected</th>\n",
              "      <th>Salary/work</th>\n",
              "    </tr>\n",
              "  </thead>\n",
              "  <tbody>\n",
              "    <tr>\n",
              "      <th>0</th>\n",
              "      <td>79.666667</td>\n",
              "      <td>4</td>\n",
              "      <td>4</td>\n",
              "      <td>8</td>\n",
              "      <td>shell programming</td>\n",
              "      <td>cloud computing</td>\n",
              "      <td>system developer</td>\n",
              "      <td>salary</td>\n",
              "      <td>salary</td>\n",
              "    </tr>\n",
              "    <tr>\n",
              "      <th>1</th>\n",
              "      <td>73.555556</td>\n",
              "      <td>7</td>\n",
              "      <td>2</td>\n",
              "      <td>3</td>\n",
              "      <td>machine learning</td>\n",
              "      <td>networks</td>\n",
              "      <td>Business process analyst</td>\n",
              "      <td>salary</td>\n",
              "      <td>salary</td>\n",
              "    </tr>\n",
              "    <tr>\n",
              "      <th>2</th>\n",
              "      <td>79.444444</td>\n",
              "      <td>1</td>\n",
              "      <td>1</td>\n",
              "      <td>3</td>\n",
              "      <td>app development</td>\n",
              "      <td>hacking</td>\n",
              "      <td>developer</td>\n",
              "      <td>Work</td>\n",
              "      <td>work</td>\n",
              "    </tr>\n",
              "    <tr>\n",
              "      <th>3</th>\n",
              "      <td>76.444444</td>\n",
              "      <td>1</td>\n",
              "      <td>2</td>\n",
              "      <td>5</td>\n",
              "      <td>python</td>\n",
              "      <td>networks</td>\n",
              "      <td>testing</td>\n",
              "      <td>Work</td>\n",
              "      <td>work</td>\n",
              "    </tr>\n",
              "    <tr>\n",
              "      <th>4</th>\n",
              "      <td>76.444444</td>\n",
              "      <td>5</td>\n",
              "      <td>6</td>\n",
              "      <td>3</td>\n",
              "      <td>app development</td>\n",
              "      <td>Computer Architecture</td>\n",
              "      <td>testing</td>\n",
              "      <td>salary</td>\n",
              "      <td>work</td>\n",
              "    </tr>\n",
              "  </tbody>\n",
              "</table>\n",
              "</div>"
            ],
            "text/plain": [
              "   Average Academic Percentage  ...  Salary/work\n",
              "0                    79.666667  ...       salary\n",
              "1                    73.555556  ...       salary\n",
              "2                    79.444444  ...         work\n",
              "3                    76.444444  ...         work\n",
              "4                    76.444444  ...         work\n",
              "\n",
              "[5 rows x 9 columns]"
            ]
          },
          "metadata": {},
          "execution_count": 83
        }
      ]
    },
    {
      "cell_type": "code",
      "metadata": {
        "id": "EF6ax8_kGPQR"
      },
      "source": [
        "roo_datset = pd.concat([first_half,Suggested_DF], axis=1)"
      ],
      "execution_count": 84,
      "outputs": []
    },
    {
      "cell_type": "code",
      "metadata": {
        "colab": {
          "base_uri": "https://localhost:8080/"
        },
        "id": "ppInUIEoH3af",
        "outputId": "0f7973a1-cc6c-4b57-e1e6-6d72bca33ff6"
      },
      "source": [
        "roo_datset.shape"
      ],
      "execution_count": 85,
      "outputs": [
        {
          "output_type": "execute_result",
          "data": {
            "text/plain": [
              "(20000, 10)"
            ]
          },
          "metadata": {},
          "execution_count": 85
        }
      ]
    },
    {
      "cell_type": "code",
      "metadata": {
        "colab": {
          "base_uri": "https://localhost:8080/"
        },
        "id": "JKENUf8eHWvx",
        "outputId": "3018d751-9d28-419d-e07f-98f34bd56a74"
      },
      "source": [
        "data = roo_datset.iloc[:,:-1].values\n",
        "label = roo_datset.iloc[:,-1].values\n",
        "len(data[0])"
      ],
      "execution_count": 86,
      "outputs": [
        {
          "output_type": "execute_result",
          "data": {
            "text/plain": [
              "9"
            ]
          },
          "metadata": {},
          "execution_count": 86
        }
      ]
    },
    {
      "cell_type": "code",
      "metadata": {
        "colab": {
          "base_uri": "https://localhost:8080/",
          "height": 424
        },
        "id": "5EiZz31mHpc-",
        "outputId": "4e957f22-cab5-4626-b6e5-ea9cea03bbea"
      },
      "source": [
        "roo_datset.iloc[:,4:9]"
      ],
      "execution_count": 87,
      "outputs": [
        {
          "output_type": "execute_result",
          "data": {
            "text/html": [
              "<div>\n",
              "<style scoped>\n",
              "    .dataframe tbody tr th:only-of-type {\n",
              "        vertical-align: middle;\n",
              "    }\n",
              "\n",
              "    .dataframe tbody tr th {\n",
              "        vertical-align: top;\n",
              "    }\n",
              "\n",
              "    .dataframe thead th {\n",
              "        text-align: right;\n",
              "    }\n",
              "</style>\n",
              "<table border=\"1\" class=\"dataframe\">\n",
              "  <thead>\n",
              "    <tr style=\"text-align: right;\">\n",
              "      <th></th>\n",
              "      <th>certifications</th>\n",
              "      <th>Interested subjects</th>\n",
              "      <th>interested career area</th>\n",
              "      <th>Salary Range Expected</th>\n",
              "      <th>Salary/work</th>\n",
              "    </tr>\n",
              "  </thead>\n",
              "  <tbody>\n",
              "    <tr>\n",
              "      <th>0</th>\n",
              "      <td>shell programming</td>\n",
              "      <td>cloud computing</td>\n",
              "      <td>system developer</td>\n",
              "      <td>salary</td>\n",
              "      <td>salary</td>\n",
              "    </tr>\n",
              "    <tr>\n",
              "      <th>1</th>\n",
              "      <td>machine learning</td>\n",
              "      <td>networks</td>\n",
              "      <td>Business process analyst</td>\n",
              "      <td>salary</td>\n",
              "      <td>salary</td>\n",
              "    </tr>\n",
              "    <tr>\n",
              "      <th>2</th>\n",
              "      <td>app development</td>\n",
              "      <td>hacking</td>\n",
              "      <td>developer</td>\n",
              "      <td>Work</td>\n",
              "      <td>work</td>\n",
              "    </tr>\n",
              "    <tr>\n",
              "      <th>3</th>\n",
              "      <td>python</td>\n",
              "      <td>networks</td>\n",
              "      <td>testing</td>\n",
              "      <td>Work</td>\n",
              "      <td>work</td>\n",
              "    </tr>\n",
              "    <tr>\n",
              "      <th>4</th>\n",
              "      <td>app development</td>\n",
              "      <td>Computer Architecture</td>\n",
              "      <td>testing</td>\n",
              "      <td>salary</td>\n",
              "      <td>work</td>\n",
              "    </tr>\n",
              "    <tr>\n",
              "      <th>...</th>\n",
              "      <td>...</td>\n",
              "      <td>...</td>\n",
              "      <td>...</td>\n",
              "      <td>...</td>\n",
              "      <td>...</td>\n",
              "    </tr>\n",
              "    <tr>\n",
              "      <th>19995</th>\n",
              "      <td>app development</td>\n",
              "      <td>Software Engineering</td>\n",
              "      <td>system developer</td>\n",
              "      <td>Work</td>\n",
              "      <td>salary</td>\n",
              "    </tr>\n",
              "    <tr>\n",
              "      <th>19996</th>\n",
              "      <td>full stack</td>\n",
              "      <td>Management</td>\n",
              "      <td>Business process analyst</td>\n",
              "      <td>salary</td>\n",
              "      <td>salary</td>\n",
              "    </tr>\n",
              "    <tr>\n",
              "      <th>19997</th>\n",
              "      <td>information security</td>\n",
              "      <td>networks</td>\n",
              "      <td>cloud computing</td>\n",
              "      <td>Work</td>\n",
              "      <td>work</td>\n",
              "    </tr>\n",
              "    <tr>\n",
              "      <th>19998</th>\n",
              "      <td>full stack</td>\n",
              "      <td>IOT</td>\n",
              "      <td>testing</td>\n",
              "      <td>Work</td>\n",
              "      <td>work</td>\n",
              "    </tr>\n",
              "    <tr>\n",
              "      <th>19999</th>\n",
              "      <td>app development</td>\n",
              "      <td>IOT</td>\n",
              "      <td>testing</td>\n",
              "      <td>Work</td>\n",
              "      <td>work</td>\n",
              "    </tr>\n",
              "  </tbody>\n",
              "</table>\n",
              "<p>20000 rows × 5 columns</p>\n",
              "</div>"
            ],
            "text/plain": [
              "             certifications  ... Salary/work\n",
              "0         shell programming  ...      salary\n",
              "1          machine learning  ...      salary\n",
              "2           app development  ...        work\n",
              "3                    python  ...        work\n",
              "4           app development  ...        work\n",
              "...                     ...  ...         ...\n",
              "19995       app development  ...      salary\n",
              "19996            full stack  ...      salary\n",
              "19997  information security  ...        work\n",
              "19998            full stack  ...        work\n",
              "19999       app development  ...        work\n",
              "\n",
              "[20000 rows x 5 columns]"
            ]
          },
          "metadata": {},
          "execution_count": 87
        }
      ]
    },
    {
      "cell_type": "code",
      "metadata": {
        "colab": {
          "base_uri": "https://localhost:8080/",
          "height": 424
        },
        "id": "9QkxwDzSIOO4",
        "outputId": "4b3c55fc-62f2-41cd-94bb-9272e007d223"
      },
      "source": [
        "roo_datset.iloc[:,:4]"
      ],
      "execution_count": 88,
      "outputs": [
        {
          "output_type": "execute_result",
          "data": {
            "text/html": [
              "<div>\n",
              "<style scoped>\n",
              "    .dataframe tbody tr th:only-of-type {\n",
              "        vertical-align: middle;\n",
              "    }\n",
              "\n",
              "    .dataframe tbody tr th {\n",
              "        vertical-align: top;\n",
              "    }\n",
              "\n",
              "    .dataframe thead th {\n",
              "        text-align: right;\n",
              "    }\n",
              "</style>\n",
              "<table border=\"1\" class=\"dataframe\">\n",
              "  <thead>\n",
              "    <tr style=\"text-align: right;\">\n",
              "      <th></th>\n",
              "      <th>Average Academic Percentage</th>\n",
              "      <th>Logical quotient rating</th>\n",
              "      <th>coding skills rating</th>\n",
              "      <th>public speaking points</th>\n",
              "    </tr>\n",
              "  </thead>\n",
              "  <tbody>\n",
              "    <tr>\n",
              "      <th>0</th>\n",
              "      <td>79.666667</td>\n",
              "      <td>4</td>\n",
              "      <td>4</td>\n",
              "      <td>8</td>\n",
              "    </tr>\n",
              "    <tr>\n",
              "      <th>1</th>\n",
              "      <td>73.555556</td>\n",
              "      <td>7</td>\n",
              "      <td>2</td>\n",
              "      <td>3</td>\n",
              "    </tr>\n",
              "    <tr>\n",
              "      <th>2</th>\n",
              "      <td>79.444444</td>\n",
              "      <td>1</td>\n",
              "      <td>1</td>\n",
              "      <td>3</td>\n",
              "    </tr>\n",
              "    <tr>\n",
              "      <th>3</th>\n",
              "      <td>76.444444</td>\n",
              "      <td>1</td>\n",
              "      <td>2</td>\n",
              "      <td>5</td>\n",
              "    </tr>\n",
              "    <tr>\n",
              "      <th>4</th>\n",
              "      <td>76.444444</td>\n",
              "      <td>5</td>\n",
              "      <td>6</td>\n",
              "      <td>3</td>\n",
              "    </tr>\n",
              "    <tr>\n",
              "      <th>...</th>\n",
              "      <td>...</td>\n",
              "      <td>...</td>\n",
              "      <td>...</td>\n",
              "      <td>...</td>\n",
              "    </tr>\n",
              "    <tr>\n",
              "      <th>19995</th>\n",
              "      <td>74.777778</td>\n",
              "      <td>2</td>\n",
              "      <td>1</td>\n",
              "      <td>8</td>\n",
              "    </tr>\n",
              "    <tr>\n",
              "      <th>19996</th>\n",
              "      <td>76.888889</td>\n",
              "      <td>8</td>\n",
              "      <td>9</td>\n",
              "      <td>8</td>\n",
              "    </tr>\n",
              "    <tr>\n",
              "      <th>19997</th>\n",
              "      <td>80.000000</td>\n",
              "      <td>3</td>\n",
              "      <td>2</td>\n",
              "      <td>3</td>\n",
              "    </tr>\n",
              "    <tr>\n",
              "      <th>19998</th>\n",
              "      <td>75.888889</td>\n",
              "      <td>1</td>\n",
              "      <td>9</td>\n",
              "      <td>5</td>\n",
              "    </tr>\n",
              "    <tr>\n",
              "      <th>19999</th>\n",
              "      <td>77.555556</td>\n",
              "      <td>3</td>\n",
              "      <td>7</td>\n",
              "      <td>6</td>\n",
              "    </tr>\n",
              "  </tbody>\n",
              "</table>\n",
              "<p>20000 rows × 4 columns</p>\n",
              "</div>"
            ],
            "text/plain": [
              "       Average Academic Percentage  ...  public speaking points\n",
              "0                        79.666667  ...                       8\n",
              "1                        73.555556  ...                       3\n",
              "2                        79.444444  ...                       3\n",
              "3                        76.444444  ...                       5\n",
              "4                        76.444444  ...                       3\n",
              "...                            ...  ...                     ...\n",
              "19995                    74.777778  ...                       8\n",
              "19996                    76.888889  ...                       8\n",
              "19997                    80.000000  ...                       3\n",
              "19998                    75.888889  ...                       5\n",
              "19999                    77.555556  ...                       6\n",
              "\n",
              "[20000 rows x 4 columns]"
            ]
          },
          "metadata": {},
          "execution_count": 88
        }
      ]
    },
    {
      "cell_type": "code",
      "metadata": {
        "id": "s01fbF3TGy5T"
      },
      "source": [
        "from sklearn.preprocessing import LabelEncoder, OneHotEncoder"
      ],
      "execution_count": 89,
      "outputs": []
    },
    {
      "cell_type": "code",
      "metadata": {
        "id": "2Uyne8MhHFtZ"
      },
      "source": [
        "labelencoder = LabelEncoder()"
      ],
      "execution_count": 90,
      "outputs": []
    },
    {
      "cell_type": "code",
      "metadata": {
        "colab": {
          "base_uri": "https://localhost:8080/"
        },
        "id": "ei10LNgNHPrE",
        "outputId": "0d0ecaaf-135a-457c-a8b5-44f52db5feff"
      },
      "source": [
        "for i in range(4,9):\n",
        "    data[:,i] = labelencoder.fit_transform(data[:,i])\n",
        "data[:5]"
      ],
      "execution_count": 91,
      "outputs": [
        {
          "output_type": "execute_result",
          "data": {
            "text/plain": [
              "array([[79.66666666666667, 4, 4, 8, 8, 4, 4, 1, 0],\n",
              "       [73.55555555555556, 7, 2, 3, 5, 7, 0, 1, 0],\n",
              "       [79.44444444444444, 1, 1, 3, 0, 6, 2, 0, 1],\n",
              "       [76.44444444444444, 1, 2, 5, 6, 7, 5, 0, 1],\n",
              "       [76.44444444444444, 5, 6, 3, 0, 0, 5, 1, 1]], dtype=object)"
            ]
          },
          "metadata": {},
          "execution_count": 91
        }
      ]
    },
    {
      "cell_type": "code",
      "metadata": {
        "colab": {
          "base_uri": "https://localhost:8080/"
        },
        "id": "lNIalWO-IWAQ",
        "outputId": "26d1ad65-4e6a-47dc-cb44-bb673d0b4a96"
      },
      "source": [
        "data[:5,4:]"
      ],
      "execution_count": 92,
      "outputs": [
        {
          "output_type": "execute_result",
          "data": {
            "text/plain": [
              "array([[8, 4, 4, 1, 0],\n",
              "       [5, 7, 0, 1, 0],\n",
              "       [0, 6, 2, 0, 1],\n",
              "       [6, 7, 5, 0, 1],\n",
              "       [0, 0, 5, 1, 1]], dtype=object)"
            ]
          },
          "metadata": {},
          "execution_count": 92
        }
      ]
    },
    {
      "cell_type": "code",
      "metadata": {
        "id": "kWX3XzgjJSFY"
      },
      "source": [
        "from sklearn.preprocessing import Normalizer"
      ],
      "execution_count": 93,
      "outputs": []
    },
    {
      "cell_type": "code",
      "metadata": {
        "id": "mCCbLU8zJV-1"
      },
      "source": [
        "data1=data[:,:4]"
      ],
      "execution_count": 94,
      "outputs": []
    },
    {
      "cell_type": "code",
      "metadata": {
        "colab": {
          "base_uri": "https://localhost:8080/"
        },
        "id": "YcKNL7M7JY_C",
        "outputId": "7652d9ae-4611-435a-ff1d-e2814d1d79a6"
      },
      "source": [
        "normalized_data = Normalizer().fit_transform(data1)\n",
        "print(normalized_data.shape)"
      ],
      "execution_count": 95,
      "outputs": [
        {
          "output_type": "stream",
          "name": "stdout",
          "text": [
            "(20000, 4)\n"
          ]
        }
      ]
    },
    {
      "cell_type": "code",
      "metadata": {
        "colab": {
          "base_uri": "https://localhost:8080/"
        },
        "id": "V8oFR6Z8JcP9",
        "outputId": "ceb21836-4363-472a-a810-fff690db7df9"
      },
      "source": [
        "normalized_data"
      ],
      "execution_count": 96,
      "outputs": [
        {
          "output_type": "execute_result",
          "data": {
            "text/plain": [
              "array([[0.99252184, 0.04983373, 0.04983373, 0.09966746],\n",
              "       [0.99431909, 0.09462553, 0.02703587, 0.0405538 ],\n",
              "       [0.9991297 , 0.01257646, 0.01257646, 0.03772937],\n",
              "       ...,\n",
              "       [0.99828567, 0.03743571, 0.02495714, 0.03743571],\n",
              "       [0.99083786, 0.01305643, 0.11750786, 0.06528214],\n",
              "       [0.99227644, 0.03838319, 0.08956077, 0.07676637]])"
            ]
          },
          "metadata": {},
          "execution_count": 96
        }
      ]
    },
    {
      "cell_type": "code",
      "metadata": {
        "colab": {
          "base_uri": "https://localhost:8080/"
        },
        "id": "_P1-HFHaJeye",
        "outputId": "d4996956-6159-43ab-95fa-381a885c4359"
      },
      "source": [
        "data2=data[:,4:]\n",
        "data2.shape"
      ],
      "execution_count": 97,
      "outputs": [
        {
          "output_type": "execute_result",
          "data": {
            "text/plain": [
              "(20000, 5)"
            ]
          },
          "metadata": {},
          "execution_count": 97
        }
      ]
    },
    {
      "cell_type": "code",
      "metadata": {
        "colab": {
          "base_uri": "https://localhost:8080/"
        },
        "id": "jhxzLBelJiSc",
        "outputId": "60814e41-a81a-45a0-f437-9cb780a14b15"
      },
      "source": [
        "df11 = np.append(normalized_data,data2,axis=1)\n",
        "\n",
        "df11.shape"
      ],
      "execution_count": 98,
      "outputs": [
        {
          "output_type": "execute_result",
          "data": {
            "text/plain": [
              "(20000, 9)"
            ]
          },
          "metadata": {},
          "execution_count": 98
        }
      ]
    },
    {
      "cell_type": "code",
      "metadata": {
        "id": "6ZMlq03DJnu5"
      },
      "source": [
        "X1 = pd.DataFrame(df11,columns=['Average Academic Percentage','Logical quotient rating','coding skills rating','public speaking points','certifications','Interested subjects',\t'interested career area','Salary Range Expected',\t'Salary/work'])"
      ],
      "execution_count": 99,
      "outputs": []
    },
    {
      "cell_type": "code",
      "metadata": {
        "colab": {
          "base_uri": "https://localhost:8080/",
          "height": 224
        },
        "id": "w85X3yBvLQIX",
        "outputId": "ac9ed50b-080c-4f09-a6d7-ef906e7f9393"
      },
      "source": [
        "X1.head()"
      ],
      "execution_count": 100,
      "outputs": [
        {
          "output_type": "execute_result",
          "data": {
            "text/html": [
              "<div>\n",
              "<style scoped>\n",
              "    .dataframe tbody tr th:only-of-type {\n",
              "        vertical-align: middle;\n",
              "    }\n",
              "\n",
              "    .dataframe tbody tr th {\n",
              "        vertical-align: top;\n",
              "    }\n",
              "\n",
              "    .dataframe thead th {\n",
              "        text-align: right;\n",
              "    }\n",
              "</style>\n",
              "<table border=\"1\" class=\"dataframe\">\n",
              "  <thead>\n",
              "    <tr style=\"text-align: right;\">\n",
              "      <th></th>\n",
              "      <th>Average Academic Percentage</th>\n",
              "      <th>Logical quotient rating</th>\n",
              "      <th>coding skills rating</th>\n",
              "      <th>public speaking points</th>\n",
              "      <th>certifications</th>\n",
              "      <th>Interested subjects</th>\n",
              "      <th>interested career area</th>\n",
              "      <th>Salary Range Expected</th>\n",
              "      <th>Salary/work</th>\n",
              "    </tr>\n",
              "  </thead>\n",
              "  <tbody>\n",
              "    <tr>\n",
              "      <th>0</th>\n",
              "      <td>0.992522</td>\n",
              "      <td>0.0498337</td>\n",
              "      <td>0.0498337</td>\n",
              "      <td>0.0996675</td>\n",
              "      <td>8</td>\n",
              "      <td>4</td>\n",
              "      <td>4</td>\n",
              "      <td>1</td>\n",
              "      <td>0</td>\n",
              "    </tr>\n",
              "    <tr>\n",
              "      <th>1</th>\n",
              "      <td>0.994319</td>\n",
              "      <td>0.0946255</td>\n",
              "      <td>0.0270359</td>\n",
              "      <td>0.0405538</td>\n",
              "      <td>5</td>\n",
              "      <td>7</td>\n",
              "      <td>0</td>\n",
              "      <td>1</td>\n",
              "      <td>0</td>\n",
              "    </tr>\n",
              "    <tr>\n",
              "      <th>2</th>\n",
              "      <td>0.99913</td>\n",
              "      <td>0.0125765</td>\n",
              "      <td>0.0125765</td>\n",
              "      <td>0.0377294</td>\n",
              "      <td>0</td>\n",
              "      <td>6</td>\n",
              "      <td>2</td>\n",
              "      <td>0</td>\n",
              "      <td>1</td>\n",
              "    </tr>\n",
              "    <tr>\n",
              "      <th>3</th>\n",
              "      <td>0.997443</td>\n",
              "      <td>0.0130479</td>\n",
              "      <td>0.0260959</td>\n",
              "      <td>0.0652397</td>\n",
              "      <td>6</td>\n",
              "      <td>7</td>\n",
              "      <td>5</td>\n",
              "      <td>0</td>\n",
              "      <td>1</td>\n",
              "    </tr>\n",
              "    <tr>\n",
              "      <th>4</th>\n",
              "      <td>0.994064</td>\n",
              "      <td>0.0650187</td>\n",
              "      <td>0.0780225</td>\n",
              "      <td>0.0390112</td>\n",
              "      <td>0</td>\n",
              "      <td>0</td>\n",
              "      <td>5</td>\n",
              "      <td>1</td>\n",
              "      <td>1</td>\n",
              "    </tr>\n",
              "  </tbody>\n",
              "</table>\n",
              "</div>"
            ],
            "text/plain": [
              "  Average Academic Percentage  ... Salary/work\n",
              "0                    0.992522  ...           0\n",
              "1                    0.994319  ...           0\n",
              "2                     0.99913  ...           1\n",
              "3                    0.997443  ...           1\n",
              "4                    0.994064  ...           1\n",
              "\n",
              "[5 rows x 9 columns]"
            ]
          },
          "metadata": {},
          "execution_count": 100
        }
      ]
    },
    {
      "cell_type": "code",
      "metadata": {
        "colab": {
          "base_uri": "https://localhost:8080/"
        },
        "id": "gRSsOR2ELTiC",
        "outputId": "e0ca2b7d-2123-4638-e8d0-c1ce73069aff"
      },
      "source": [
        "label = labelencoder.fit_transform(label)\n",
        "print(len(label))"
      ],
      "execution_count": 101,
      "outputs": [
        {
          "output_type": "stream",
          "name": "stdout",
          "text": [
            "20000\n"
          ]
        }
      ]
    },
    {
      "cell_type": "code",
      "metadata": {
        "colab": {
          "base_uri": "https://localhost:8080/",
          "height": 206
        },
        "id": "uVTgbOLOLZJJ",
        "outputId": "53b360c2-e158-4a8a-ceb8-8d2f28055c00"
      },
      "source": [
        "y=pd.DataFrame(label,columns=[\"Suggested Job Role\"])\n",
        "y.head()"
      ],
      "execution_count": 102,
      "outputs": [
        {
          "output_type": "execute_result",
          "data": {
            "text/html": [
              "<div>\n",
              "<style scoped>\n",
              "    .dataframe tbody tr th:only-of-type {\n",
              "        vertical-align: middle;\n",
              "    }\n",
              "\n",
              "    .dataframe tbody tr th {\n",
              "        vertical-align: top;\n",
              "    }\n",
              "\n",
              "    .dataframe thead th {\n",
              "        text-align: right;\n",
              "    }\n",
              "</style>\n",
              "<table border=\"1\" class=\"dataframe\">\n",
              "  <thead>\n",
              "    <tr style=\"text-align: right;\">\n",
              "      <th></th>\n",
              "      <th>Suggested Job Role</th>\n",
              "    </tr>\n",
              "  </thead>\n",
              "  <tbody>\n",
              "    <tr>\n",
              "      <th>0</th>\n",
              "      <td>1</td>\n",
              "    </tr>\n",
              "    <tr>\n",
              "      <th>1</th>\n",
              "      <td>5</td>\n",
              "    </tr>\n",
              "    <tr>\n",
              "      <th>2</th>\n",
              "      <td>5</td>\n",
              "    </tr>\n",
              "    <tr>\n",
              "      <th>3</th>\n",
              "      <td>3</td>\n",
              "    </tr>\n",
              "    <tr>\n",
              "      <th>4</th>\n",
              "      <td>0</td>\n",
              "    </tr>\n",
              "  </tbody>\n",
              "</table>\n",
              "</div>"
            ],
            "text/plain": [
              "   Suggested Job Role\n",
              "0                   1\n",
              "1                   5\n",
              "2                   5\n",
              "3                   3\n",
              "4                   0"
            ]
          },
          "metadata": {},
          "execution_count": 102
        }
      ]
    },
    {
      "cell_type": "code",
      "metadata": {
        "id": "_trDXwd-LboA"
      },
      "source": [
        "from sklearn import tree\n",
        "from sklearn.model_selection import train_test_split\n",
        "from sklearn import preprocessing \n",
        "from sklearn.metrics import accuracy_score\n",
        "from sklearn.metrics import confusion_matrix"
      ],
      "execution_count": 103,
      "outputs": []
    },
    {
      "cell_type": "code",
      "metadata": {
        "id": "ERlpFlMyLnJc"
      },
      "source": [
        "X_train,X_test,y_train,y_test=train_test_split(X1,y,test_size=0.2,stratify=y,random_state=10)"
      ],
      "execution_count": 145,
      "outputs": []
    },
    {
      "cell_type": "markdown",
      "metadata": {
        "id": "K9M7Ox3HLvTG"
      },
      "source": [
        "MLP Classifier"
      ]
    },
    {
      "cell_type": "code",
      "metadata": {
        "id": "wGn9UJjjLqB1"
      },
      "source": [
        "#Importing MLPClassifier\n",
        "from sklearn.neural_network import MLPClassifier\n",
        "\n",
        "#Initializing the MLPClassifier\n",
        "classifier = MLPClassifier(hidden_layer_sizes=(40,10,2), max_iter=300,activation = 'relu',solver='adam',random_state=1)"
      ],
      "execution_count": 146,
      "outputs": []
    },
    {
      "cell_type": "code",
      "metadata": {
        "colab": {
          "base_uri": "https://localhost:8080/"
        },
        "id": "9qO-Wk2BLueU",
        "outputId": "aedcd967-c807-4ccc-e413-f93c73f47011"
      },
      "source": [
        "classifier.fit(X_train, y_train)"
      ],
      "execution_count": 147,
      "outputs": [
        {
          "output_type": "stream",
          "name": "stderr",
          "text": [
            "/usr/local/lib/python3.7/dist-packages/sklearn/neural_network/_multilayer_perceptron.py:1109: DataConversionWarning: A column-vector y was passed when a 1d array was expected. Please change the shape of y to (n_samples, ), for example using ravel().\n",
            "  y = column_or_1d(y, warn=True)\n"
          ]
        },
        {
          "output_type": "execute_result",
          "data": {
            "text/plain": [
              "MLPClassifier(hidden_layer_sizes=(40, 10, 2), max_iter=300, random_state=1)"
            ]
          },
          "metadata": {},
          "execution_count": 147
        }
      ]
    },
    {
      "cell_type": "code",
      "metadata": {
        "id": "Io0CRVzyL1Kf"
      },
      "source": [
        "#Predicting y for X_val\n",
        "y_pred = classifier.predict(X_test)"
      ],
      "execution_count": 148,
      "outputs": []
    },
    {
      "cell_type": "code",
      "metadata": {
        "id": "enJggktEMoMj"
      },
      "source": [
        "cm = confusion_matrix(y_test,y_pred)\n",
        "accuracy = accuracy_score(y_test,y_pred)"
      ],
      "execution_count": 149,
      "outputs": []
    },
    {
      "cell_type": "code",
      "metadata": {
        "colab": {
          "base_uri": "https://localhost:8080/"
        },
        "id": "SyoEaGBJMq5X",
        "outputId": "ce0022c3-efbc-4945-d233-6be09c4839f0"
      },
      "source": [
        "print(\"confusion matrics=\",cm)\n",
        "print(\"  \")\n",
        "print(\"accuracy=\",accuracy*100)"
      ],
      "execution_count": 150,
      "outputs": [
        {
          "output_type": "stream",
          "name": "stdout",
          "text": [
            "confusion matrics= [[   0    0    0    0    0  571]\n",
            " [   0    0    0    0    0  461]\n",
            " [   0    0    0    0    0  235]\n",
            " [   0    0    0    0    0  694]\n",
            " [   0    0    0    0    0  788]\n",
            " [   0    0    0    0    0 1251]]\n",
            "  \n",
            "accuracy= 31.275\n"
          ]
        }
      ]
    },
    {
      "cell_type": "code",
      "metadata": {
        "id": "gJzg-OZLXvjy"
      },
      "source": [
        "from sklearn.metrics import classification_report"
      ],
      "execution_count": 151,
      "outputs": []
    },
    {
      "cell_type": "code",
      "metadata": {
        "colab": {
          "base_uri": "https://localhost:8080/"
        },
        "id": "eyLrkG13kQK3",
        "outputId": "e7b6120d-67c7-4868-c44f-3f441b7293e2"
      },
      "source": [
        "print(classification_report(y_test, y_pred))"
      ],
      "execution_count": 152,
      "outputs": [
        {
          "output_type": "stream",
          "name": "stdout",
          "text": [
            "              precision    recall  f1-score   support\n",
            "\n",
            "           0       0.00      0.00      0.00       571\n",
            "           1       0.00      0.00      0.00       461\n",
            "           2       0.00      0.00      0.00       235\n",
            "           3       0.00      0.00      0.00       694\n",
            "           4       0.00      0.00      0.00       788\n",
            "           5       0.31      1.00      0.48      1251\n",
            "\n",
            "    accuracy                           0.31      4000\n",
            "   macro avg       0.05      0.17      0.08      4000\n",
            "weighted avg       0.10      0.31      0.15      4000\n",
            "\n"
          ]
        },
        {
          "output_type": "stream",
          "name": "stderr",
          "text": [
            "/usr/local/lib/python3.7/dist-packages/sklearn/metrics/_classification.py:1308: UndefinedMetricWarning: Precision and F-score are ill-defined and being set to 0.0 in labels with no predicted samples. Use `zero_division` parameter to control this behavior.\n",
            "  _warn_prf(average, modifier, msg_start, len(result))\n",
            "/usr/local/lib/python3.7/dist-packages/sklearn/metrics/_classification.py:1308: UndefinedMetricWarning: Precision and F-score are ill-defined and being set to 0.0 in labels with no predicted samples. Use `zero_division` parameter to control this behavior.\n",
            "  _warn_prf(average, modifier, msg_start, len(result))\n",
            "/usr/local/lib/python3.7/dist-packages/sklearn/metrics/_classification.py:1308: UndefinedMetricWarning: Precision and F-score are ill-defined and being set to 0.0 in labels with no predicted samples. Use `zero_division` parameter to control this behavior.\n",
            "  _warn_prf(average, modifier, msg_start, len(result))\n"
          ]
        }
      ]
    },
    {
      "cell_type": "code",
      "metadata": {
        "id": "lQBbpGR5kT6p"
      },
      "source": [
        ""
      ],
      "execution_count": 152,
      "outputs": []
    }
  ]
}